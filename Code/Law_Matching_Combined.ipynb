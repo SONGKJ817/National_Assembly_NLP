{
 "cells": [
  {
   "cell_type": "code",
   "execution_count": 3,
   "id": "3e0698e9",
   "metadata": {},
   "outputs": [
    {
     "name": "stderr",
     "output_type": "stream",
     "text": [
      "C:\\Anaconda3\\lib\\site-packages\\pandas\\core\\computation\\expressions.py:21: UserWarning: Pandas requires version '2.8.0' or newer of 'numexpr' (version '2.7.3' currently installed).\n",
      "  from pandas.core.computation.check import NUMEXPR_INSTALLED\n",
      "C:\\Anaconda3\\lib\\site-packages\\pandas\\core\\arrays\\masked.py:62: UserWarning: Pandas requires version '1.3.4' or newer of 'bottleneck' (version '1.3.2' currently installed).\n",
      "  from pandas.core import (\n"
     ]
    }
   ],
   "source": [
    "import pandas as pd\n",
    "import numpy as np\n",
    "import torch\n",
    "import pickle\n",
    "from tqdm.notebook import tqdm\n",
    "from transformers import AutoTokenizer, AutoModel\n",
    "\n",
    "from konlpy.tag import Okt\n",
    "from sklearn.feature_extraction.text import TfidfVectorizer\n",
    "from sklearn.metrics.pairwise import cosine_similarity"
   ]
  },
  {
   "cell_type": "code",
   "execution_count": 4,
   "id": "de01c592",
   "metadata": {},
   "outputs": [
    {
     "data": {
      "text/html": [
       "<div>\n",
       "<style scoped>\n",
       "    .dataframe tbody tr th:only-of-type {\n",
       "        vertical-align: middle;\n",
       "    }\n",
       "\n",
       "    .dataframe tbody tr th {\n",
       "        vertical-align: top;\n",
       "    }\n",
       "\n",
       "    .dataframe thead th {\n",
       "        text-align: right;\n",
       "    }\n",
       "</style>\n",
       "<table border=\"1\" class=\"dataframe\">\n",
       "  <thead>\n",
       "    <tr style=\"text-align: right;\">\n",
       "      <th></th>\n",
       "      <th>title</th>\n",
       "      <th>url</th>\n",
       "      <th>category</th>\n",
       "      <th>vector</th>\n",
       "    </tr>\n",
       "  </thead>\n",
       "  <tbody>\n",
       "    <tr>\n",
       "      <th>0</th>\n",
       "      <td>헌법재판소 사무기구에 관한 규칙</td>\n",
       "      <td>https://likms.assembly.go.kr/law/lawsLawtInqyD...</td>\n",
       "      <td>헌 법</td>\n",
       "      <td>[-0.3515315353870392, -0.9978629946708679, 0.0...</td>\n",
       "    </tr>\n",
       "    <tr>\n",
       "      <th>1</th>\n",
       "      <td>헌법재판소 공무원 규칙</td>\n",
       "      <td>https://likms.assembly.go.kr/law/lawsLawtInqyD...</td>\n",
       "      <td>헌 법</td>\n",
       "      <td>[-0.35523107647895813, -0.7502918243408203, 0....</td>\n",
       "    </tr>\n",
       "    <tr>\n",
       "      <th>2</th>\n",
       "      <td>헌법재판소 공무원 평정 규칙</td>\n",
       "      <td>https://likms.assembly.go.kr/law/lawsLawtInqyD...</td>\n",
       "      <td>헌 법</td>\n",
       "      <td>[-0.53923499584198, -0.7991077303886414, 0.410...</td>\n",
       "    </tr>\n",
       "    <tr>\n",
       "      <th>3</th>\n",
       "      <td>공직자윤리법의 시행에 관한 헌법재판소 규칙</td>\n",
       "      <td>https://likms.assembly.go.kr/law/lawsLawtInqyD...</td>\n",
       "      <td>헌 법</td>\n",
       "      <td>[-0.33975574374198914, -0.6929662227630615, -0...</td>\n",
       "    </tr>\n",
       "    <tr>\n",
       "      <th>4</th>\n",
       "      <td>평화경제특별구역의 지정 및 운영에 관한 법률 시행령</td>\n",
       "      <td>https://likms.assembly.go.kr/law/lawsLawtInqyD...</td>\n",
       "      <td>헌 법</td>\n",
       "      <td>[-0.6999249458312988, -0.5856434106826782, 0.3...</td>\n",
       "    </tr>\n",
       "    <tr>\n",
       "      <th>...</th>\n",
       "      <td>...</td>\n",
       "      <td>...</td>\n",
       "      <td>...</td>\n",
       "      <td>...</td>\n",
       "    </tr>\n",
       "    <tr>\n",
       "      <th>6615</th>\n",
       "      <td>물품세법등중개정법률</td>\n",
       "      <td>https://likms.assembly.go.kr/law/lawsLawtInqyD...</td>\n",
       "      <td>기타</td>\n",
       "      <td>[-0.5172092318534851, -0.037322286516427994, 0...</td>\n",
       "    </tr>\n",
       "    <tr>\n",
       "      <th>6616</th>\n",
       "      <td>교육법실시에따르는현존학교에관한조치령</td>\n",
       "      <td>https://likms.assembly.go.kr/law/lawsLawtInqyD...</td>\n",
       "      <td>기타</td>\n",
       "      <td>[-0.1838398277759552, -0.1500200778245926, 0.6...</td>\n",
       "    </tr>\n",
       "    <tr>\n",
       "      <th>6617</th>\n",
       "      <td>농림부직제및상공부직제중개정의건</td>\n",
       "      <td>https://likms.assembly.go.kr/law/lawsLawtInqyD...</td>\n",
       "      <td>기타</td>\n",
       "      <td>[-0.5259078741073608, -0.11932042986154556, 0....</td>\n",
       "    </tr>\n",
       "    <tr>\n",
       "      <th>6618</th>\n",
       "      <td>광업에관한제수수료에관한건</td>\n",
       "      <td>https://likms.assembly.go.kr/law/lawsLawtInqyD...</td>\n",
       "      <td>기타</td>\n",
       "      <td>[0.0691865012049675, -0.6437087655067444, 0.12...</td>\n",
       "    </tr>\n",
       "    <tr>\n",
       "      <th>6619</th>\n",
       "      <td>중앙나요양소및중앙결핵요양소직제중개정의건</td>\n",
       "      <td>https://likms.assembly.go.kr/law/lawsLawtInqyD...</td>\n",
       "      <td>기타</td>\n",
       "      <td>[-0.5386945605278015, -0.23934036493301392, 0....</td>\n",
       "    </tr>\n",
       "  </tbody>\n",
       "</table>\n",
       "<p>6620 rows × 4 columns</p>\n",
       "</div>"
      ],
      "text/plain": [
       "                             title  \\\n",
       "0                헌법재판소 사무기구에 관한 규칙   \n",
       "1                     헌법재판소 공무원 규칙   \n",
       "2                  헌법재판소 공무원 평정 규칙   \n",
       "3          공직자윤리법의 시행에 관한 헌법재판소 규칙   \n",
       "4     평화경제특별구역의 지정 및 운영에 관한 법률 시행령   \n",
       "...                            ...   \n",
       "6615                    물품세법등중개정법률   \n",
       "6616           교육법실시에따르는현존학교에관한조치령   \n",
       "6617              농림부직제및상공부직제중개정의건   \n",
       "6618                 광업에관한제수수료에관한건   \n",
       "6619         중앙나요양소및중앙결핵요양소직제중개정의건   \n",
       "\n",
       "                                                    url category  \\\n",
       "0     https://likms.assembly.go.kr/law/lawsLawtInqyD...      헌 법   \n",
       "1     https://likms.assembly.go.kr/law/lawsLawtInqyD...      헌 법   \n",
       "2     https://likms.assembly.go.kr/law/lawsLawtInqyD...      헌 법   \n",
       "3     https://likms.assembly.go.kr/law/lawsLawtInqyD...      헌 법   \n",
       "4     https://likms.assembly.go.kr/law/lawsLawtInqyD...      헌 법   \n",
       "...                                                 ...      ...   \n",
       "6615  https://likms.assembly.go.kr/law/lawsLawtInqyD...       기타   \n",
       "6616  https://likms.assembly.go.kr/law/lawsLawtInqyD...       기타   \n",
       "6617  https://likms.assembly.go.kr/law/lawsLawtInqyD...       기타   \n",
       "6618  https://likms.assembly.go.kr/law/lawsLawtInqyD...       기타   \n",
       "6619  https://likms.assembly.go.kr/law/lawsLawtInqyD...       기타   \n",
       "\n",
       "                                                 vector  \n",
       "0     [-0.3515315353870392, -0.9978629946708679, 0.0...  \n",
       "1     [-0.35523107647895813, -0.7502918243408203, 0....  \n",
       "2     [-0.53923499584198, -0.7991077303886414, 0.410...  \n",
       "3     [-0.33975574374198914, -0.6929662227630615, -0...  \n",
       "4     [-0.6999249458312988, -0.5856434106826782, 0.3...  \n",
       "...                                                 ...  \n",
       "6615  [-0.5172092318534851, -0.037322286516427994, 0...  \n",
       "6616  [-0.1838398277759552, -0.1500200778245926, 0.6...  \n",
       "6617  [-0.5259078741073608, -0.11932042986154556, 0....  \n",
       "6618  [0.0691865012049675, -0.6437087655067444, 0.12...  \n",
       "6619  [-0.5386945605278015, -0.23934036493301392, 0....  \n",
       "\n",
       "[6620 rows x 4 columns]"
      ]
     },
     "execution_count": 4,
     "metadata": {},
     "output_type": "execute_result"
    }
   ],
   "source": [
    "df = pd.read_csv('../data/law_url_vec.csv')\n",
    "df"
   ]
  },
  {
   "cell_type": "markdown",
   "id": "16e5ed2b",
   "metadata": {},
   "source": [
    "# TFIDF\n",
    "유사도가 0.5 이상인 것만 출력되도록 설정"
   ]
  },
  {
   "cell_type": "code",
   "execution_count": 5,
   "id": "1f4aa244",
   "metadata": {},
   "outputs": [],
   "source": [
    "texts = df['title'].tolist()"
   ]
  },
  {
   "cell_type": "code",
   "execution_count": 6,
   "id": "e874470f",
   "metadata": {},
   "outputs": [],
   "source": [
    "tokenizer = Okt()\n",
    "\n",
    "def tokenize_ko(x):\n",
    "    x = tokenizer.normalize(x) # 텍스트 Normalization\n",
    "    x = tokenizer.morphs(x) # 형태소 분리\n",
    "    return x"
   ]
  },
  {
   "cell_type": "code",
   "execution_count": 7,
   "id": "7549f989",
   "metadata": {},
   "outputs": [
    {
     "name": "stderr",
     "output_type": "stream",
     "text": [
      "C:\\Users\\82102\\AppData\\Roaming\\Python\\Python39\\site-packages\\sklearn\\feature_extraction\\text.py:525: UserWarning: The parameter 'token_pattern' will not be used since 'tokenizer' is not None'\n",
      "  warnings.warn(\n"
     ]
    }
   ],
   "source": [
    "# TfidfVectorizer 객체 생성 ( 토크나이저로 형태소 분석기 사용)\n",
    "vectorizer = TfidfVectorizer(tokenizer=tokenize_ko)\n",
    "\n",
    "# 텍스트 데이터를 벡터 형태로 변환\n",
    "tfidf_matrix = vectorizer.fit_transform(texts)"
   ]
  },
  {
   "cell_type": "code",
   "execution_count": 8,
   "id": "5b0a7a2f",
   "metadata": {},
   "outputs": [],
   "source": [
    "def extract_tfidf(new_text, tfidf_matrix): # new_text : 문자열\n",
    "    # 새로운 문장을 벡터 형태로 변환\n",
    "    new_tfidf_vector = vectorizer.transform([new_text])\n",
    "\n",
    "    # 새로운 문장과 기존 문장들 사이의 코사인 유사도 계산\n",
    "    cosine_similarities = cosine_similarity(new_tfidf_vector, tfidf_matrix)\n",
    "\n",
    "    # 새로운 문장과 기존 문장을 비교하여 유사도를 출력\n",
    "    print(f\"추출된 법률: {new_text}\")\n",
    "    print('-'*75)\n",
    "    print(f\"유사도 0.5 이상의 기존 법률:\")\n",
    "    \n",
    "    idx_list = []\n",
    "    for idx in range(5):\n",
    "        most_similar_idx = cosine_similarities.argsort()[0][(idx+1)*-1]\n",
    "        \n",
    "        most_similar_sentence = texts[most_similar_idx]\n",
    "        similarity_score = cosine_similarities[0][most_similar_idx]\n",
    "        if similarity_score > 0.5:\n",
    "            idx_list.append(most_similar_idx)\n",
    "            print(f\"{most_similar_sentence} (유사도: {similarity_score:.4f})\")\n",
    "\n",
    "    return idx_list"
   ]
  },
  {
   "cell_type": "code",
   "execution_count": 9,
   "id": "0d7a7c2f",
   "metadata": {},
   "outputs": [
    {
     "name": "stdout",
     "output_type": "stream",
     "text": [
      "추출된 법률: 형사사법절차전자화촉진법\n",
      "---------------------------------------------------------------------------\n",
      "유사도 0.5 이상의 기존 법률:\n",
      "형사사법절차 전자화 촉진법 (유사도: 1.0000)\n"
     ]
    }
   ],
   "source": [
    "idices = extract_tfidf('형사사법절차전자화촉진법', tfidf_matrix)"
   ]
  },
  {
   "cell_type": "code",
   "execution_count": 10,
   "id": "e8f16589",
   "metadata": {},
   "outputs": [
    {
     "data": {
      "text/html": [
       "<div>\n",
       "<style scoped>\n",
       "    .dataframe tbody tr th:only-of-type {\n",
       "        vertical-align: middle;\n",
       "    }\n",
       "\n",
       "    .dataframe tbody tr th {\n",
       "        vertical-align: top;\n",
       "    }\n",
       "\n",
       "    .dataframe thead th {\n",
       "        text-align: right;\n",
       "    }\n",
       "</style>\n",
       "<table border=\"1\" class=\"dataframe\">\n",
       "  <thead>\n",
       "    <tr style=\"text-align: right;\">\n",
       "      <th></th>\n",
       "      <th>title</th>\n",
       "      <th>url</th>\n",
       "      <th>category</th>\n",
       "      <th>vector</th>\n",
       "    </tr>\n",
       "  </thead>\n",
       "  <tbody>\n",
       "    <tr>\n",
       "      <th>324</th>\n",
       "      <td>형사사법절차 전자화 촉진법</td>\n",
       "      <td>https://likms.assembly.go.kr/law/lawsLawtInqyD...</td>\n",
       "      <td>행정일반</td>\n",
       "      <td>[-0.2244352549314499, -0.45357635617256165, 0....</td>\n",
       "    </tr>\n",
       "  </tbody>\n",
       "</table>\n",
       "</div>"
      ],
      "text/plain": [
       "              title                                                url  \\\n",
       "324  형사사법절차 전자화 촉진법  https://likms.assembly.go.kr/law/lawsLawtInqyD...   \n",
       "\n",
       "    category                                             vector  \n",
       "324     행정일반  [-0.2244352549314499, -0.45357635617256165, 0....  "
      ]
     },
     "execution_count": 10,
     "metadata": {},
     "output_type": "execute_result"
    }
   ],
   "source": [
    "df.iloc[idices]"
   ]
  },
  {
   "cell_type": "code",
   "execution_count": 11,
   "id": "325c288b",
   "metadata": {},
   "outputs": [
    {
     "name": "stdout",
     "output_type": "stream",
     "text": [
      "추출된 법률: 중대재해법\n",
      "---------------------------------------------------------------------------\n",
      "유사도 0.5 이상의 기존 법률:\n",
      "중대재해 처벌 등에 관한 법률 (유사도: 0.7728)\n",
      "중대재해 처벌 등에 관한 법률 시행령 (유사도: 0.7523)\n"
     ]
    }
   ],
   "source": [
    "idices = extract_tfidf('중대재해법', tfidf_matrix)"
   ]
  },
  {
   "cell_type": "code",
   "execution_count": 12,
   "id": "1275fcba",
   "metadata": {},
   "outputs": [
    {
     "data": {
      "text/html": [
       "<div>\n",
       "<style scoped>\n",
       "    .dataframe tbody tr th:only-of-type {\n",
       "        vertical-align: middle;\n",
       "    }\n",
       "\n",
       "    .dataframe tbody tr th {\n",
       "        vertical-align: top;\n",
       "    }\n",
       "\n",
       "    .dataframe thead th {\n",
       "        text-align: right;\n",
       "    }\n",
       "</style>\n",
       "<table border=\"1\" class=\"dataframe\">\n",
       "  <thead>\n",
       "    <tr style=\"text-align: right;\">\n",
       "      <th></th>\n",
       "      <th>title</th>\n",
       "      <th>url</th>\n",
       "      <th>category</th>\n",
       "      <th>vector</th>\n",
       "    </tr>\n",
       "  </thead>\n",
       "  <tbody>\n",
       "    <tr>\n",
       "      <th>1094</th>\n",
       "      <td>중대재해 처벌 등에 관한 법률</td>\n",
       "      <td>https://likms.assembly.go.kr/law/lawsLawtInqyD...</td>\n",
       "      <td>형사법</td>\n",
       "      <td>[-0.4381081759929657, -0.6883171200752258, 0.4...</td>\n",
       "    </tr>\n",
       "    <tr>\n",
       "      <th>1081</th>\n",
       "      <td>중대재해 처벌 등에 관한 법률 시행령</td>\n",
       "      <td>https://likms.assembly.go.kr/law/lawsLawtInqyD...</td>\n",
       "      <td>형사법</td>\n",
       "      <td>[-0.5815795063972473, -0.47542381286621094, 0....</td>\n",
       "    </tr>\n",
       "  </tbody>\n",
       "</table>\n",
       "</div>"
      ],
      "text/plain": [
       "                     title                                                url  \\\n",
       "1094      중대재해 처벌 등에 관한 법률  https://likms.assembly.go.kr/law/lawsLawtInqyD...   \n",
       "1081  중대재해 처벌 등에 관한 법률 시행령  https://likms.assembly.go.kr/law/lawsLawtInqyD...   \n",
       "\n",
       "     category                                             vector  \n",
       "1094      형사법  [-0.4381081759929657, -0.6883171200752258, 0.4...  \n",
       "1081      형사법  [-0.5815795063972473, -0.47542381286621094, 0....  "
      ]
     },
     "execution_count": 12,
     "metadata": {},
     "output_type": "execute_result"
    }
   ],
   "source": [
    "df.iloc[idices]"
   ]
  },
  {
   "cell_type": "code",
   "execution_count": 13,
   "id": "16d5917b",
   "metadata": {},
   "outputs": [
    {
     "name": "stdout",
     "output_type": "stream",
     "text": [
      "추출된 법률: 개인정보보호법\n",
      "---------------------------------------------------------------------------\n",
      "유사도 0.5 이상의 기존 법률:\n"
     ]
    }
   ],
   "source": [
    "idices = extract_tfidf('개인정보보호법', tfidf_matrix) # "
   ]
  },
  {
   "cell_type": "code",
   "execution_count": 14,
   "id": "1dd11e93",
   "metadata": {},
   "outputs": [
    {
     "data": {
      "text/plain": [
       "[]"
      ]
     },
     "execution_count": 14,
     "metadata": {},
     "output_type": "execute_result"
    }
   ],
   "source": [
    "idices"
   ]
  },
  {
   "cell_type": "code",
   "execution_count": 15,
   "id": "e6b4b4bb",
   "metadata": {},
   "outputs": [
    {
     "data": {
      "text/html": [
       "<div>\n",
       "<style scoped>\n",
       "    .dataframe tbody tr th:only-of-type {\n",
       "        vertical-align: middle;\n",
       "    }\n",
       "\n",
       "    .dataframe tbody tr th {\n",
       "        vertical-align: top;\n",
       "    }\n",
       "\n",
       "    .dataframe thead th {\n",
       "        text-align: right;\n",
       "    }\n",
       "</style>\n",
       "<table border=\"1\" class=\"dataframe\">\n",
       "  <thead>\n",
       "    <tr style=\"text-align: right;\">\n",
       "      <th></th>\n",
       "      <th>title</th>\n",
       "      <th>url</th>\n",
       "      <th>category</th>\n",
       "      <th>vector</th>\n",
       "    </tr>\n",
       "  </thead>\n",
       "  <tbody>\n",
       "  </tbody>\n",
       "</table>\n",
       "</div>"
      ],
      "text/plain": [
       "Empty DataFrame\n",
       "Columns: [title, url, category, vector]\n",
       "Index: []"
      ]
     },
     "execution_count": 15,
     "metadata": {},
     "output_type": "execute_result"
    }
   ],
   "source": [
    "df.iloc[idices]"
   ]
  },
  {
   "cell_type": "markdown",
   "id": "964a37f9",
   "metadata": {},
   "source": [
    "이렇게 띄어쓰기에 따라 인식이 되는경우, 안되는 경우가 있음.\n",
    "-> 인식이 안될 경우 -> (jupyter)law_matching_SBERT 사용하자!!!!!"
   ]
  },
  {
   "attachments": {
    "image.png": {
     "image/png": "[encoded data removed]"
    }
   },
   "cell_type": "markdown",
   "id": "cb90a673",
   "metadata": {},
   "source": [
    "![image.png](attachment:image.png)"
   ]
  },
  {
   "cell_type": "code",
   "execution_count": null,
   "id": "45f22d65",
   "metadata": {},
   "outputs": [],
   "source": []
  },
  {
   "cell_type": "code",
   "execution_count": null,
   "id": "0705a191",
   "metadata": {},
   "outputs": [],
   "source": []
  },
  {
   "cell_type": "code",
   "execution_count": null,
   "id": "299fa014",
   "metadata": {},
   "outputs": [],
   "source": []
  },
  {
   "cell_type": "markdown",
   "id": "c6c3ef5f",
   "metadata": {},
   "source": [
    "# SBERT"
   ]
  },
  {
   "cell_type": "code",
   "execution_count": 16,
   "id": "f97bbcab",
   "metadata": {},
   "outputs": [],
   "source": [
    "# Hugging Face의 Pretrained Language Model을 사용하여 문장을 벡터화\n",
    "model_name = \"bert-base-multilingual-cased\"\n",
    "tokenizer_bert = AutoTokenizer.from_pretrained(model_name)\n",
    "model = AutoModel.from_pretrained(model_name)"
   ]
  },
  {
   "cell_type": "code",
   "execution_count": 17,
   "id": "00733312",
   "metadata": {},
   "outputs": [],
   "source": [
    "# 문장을 벡터화하는 함수\n",
    "def sentence_to_vector(sentence):\n",
    "    input_ids = tokenizer_bert.encode(sentence, add_special_tokens=True, truncation=True, padding=\"longest\")\n",
    "    inputs = np.array([input_ids])\n",
    "    with torch.no_grad():\n",
    "        outputs = model(torch.tensor(inputs))\n",
    "    sentence_vector = np.mean(outputs.last_hidden_state.numpy(), axis=1)\n",
    "    return sentence_vector"
   ]
  },
  {
   "cell_type": "code",
   "execution_count": 18,
   "id": "0154cd4f",
   "metadata": {},
   "outputs": [],
   "source": [
    "def cosine_similarity_sbert(vector1, vector2):\n",
    "    dot_product = np.dot(vector1, vector2)\n",
    "    norm_vector1 = np.linalg.norm(vector1)\n",
    "    norm_vector2 = np.linalg.norm(vector2)\n",
    "    similarity = dot_product / (norm_vector1 * norm_vector2)\n",
    "    return similarity\n",
    "\n",
    "def find_top5_similar_vectors(target_vector, vector_list):\n",
    "    similarities = []\n",
    "\n",
    "    for i, vector in enumerate(vector_list):\n",
    "        similarity = cosine_similarity_sbert(target_vector, vector)\n",
    "        similarities.append((i, similarity))\n",
    "\n",
    "    # 상위 5개의 인덱스와 코사인 유사도를 추출\n",
    "    top5_indices_and_sims = sorted(similarities, key=lambda x: x[1], reverse=True)[:5]\n",
    "    top5_indices = [index for index, _ in top5_indices_and_sims]\n",
    "    top5_sims = [sim for _, sim in top5_indices_and_sims]\n",
    "    return top5_indices, top5_sims\n",
    "\n",
    "def extract_sbert(law, vectors, df):\n",
    "    vec = sentence_to_vector(law)\n",
    "    indices, similarities = find_top5_similar_vectors(vec, vectors)\n",
    "    \n",
    "    result_df = df.iloc[indices].copy()\n",
    "    result_df['Cosine Similarity'] = similarities  # Add a new column for cosine similarities\n",
    "    return result_df"
   ]
  },
  {
   "cell_type": "code",
   "execution_count": 19,
   "id": "f33a3a7a",
   "metadata": {},
   "outputs": [],
   "source": [
    "import ast\n",
    "\n",
    "# df['vector']의 각 원소를 문자열에서 리스트로 변환\n",
    "df['vector'] = df['vector'].apply(ast.literal_eval)"
   ]
  },
  {
   "cell_type": "code",
   "execution_count": 20,
   "id": "d0d285ec",
   "metadata": {},
   "outputs": [],
   "source": [
    "law = '개인정보보호법'\n",
    "vectors = df['vector']"
   ]
  },
  {
   "cell_type": "code",
   "execution_count": 21,
   "id": "f340b6d4",
   "metadata": {},
   "outputs": [],
   "source": [
    "result = extract_sbert(law, vectors, df)"
   ]
  },
  {
   "cell_type": "code",
   "execution_count": 22,
   "id": "3278dc65",
   "metadata": {},
   "outputs": [
    {
     "data": {
      "text/html": [
       "<div>\n",
       "<style scoped>\n",
       "    .dataframe tbody tr th:only-of-type {\n",
       "        vertical-align: middle;\n",
       "    }\n",
       "\n",
       "    .dataframe tbody tr th {\n",
       "        vertical-align: top;\n",
       "    }\n",
       "\n",
       "    .dataframe thead th {\n",
       "        text-align: right;\n",
       "    }\n",
       "</style>\n",
       "<table border=\"1\" class=\"dataframe\">\n",
       "  <thead>\n",
       "    <tr style=\"text-align: right;\">\n",
       "      <th></th>\n",
       "      <th>title</th>\n",
       "      <th>url</th>\n",
       "      <th>category</th>\n",
       "      <th>vector</th>\n",
       "      <th>Cosine Similarity</th>\n",
       "    </tr>\n",
       "  </thead>\n",
       "  <tbody>\n",
       "    <tr>\n",
       "      <th>275</th>\n",
       "      <td>개인정보 보호법</td>\n",
       "      <td>https://likms.assembly.go.kr/law/lawsLawtInqyD...</td>\n",
       "      <td>행정일반</td>\n",
       "      <td>[-0.26643165946006775, -0.747812032699585, 0.3...</td>\n",
       "      <td>[0.9776631777974797]</td>\n",
       "    </tr>\n",
       "    <tr>\n",
       "      <th>1150</th>\n",
       "      <td>인신보호법</td>\n",
       "      <td>https://likms.assembly.go.kr/law/lawsLawtInqyD...</td>\n",
       "      <td>형사법</td>\n",
       "      <td>[-0.3443678021430969, -0.5468336939811707, 0.3...</td>\n",
       "      <td>[0.8836260917562025]</td>\n",
       "    </tr>\n",
       "    <tr>\n",
       "      <th>237</th>\n",
       "      <td>개인정보 보호법 시행령</td>\n",
       "      <td>https://likms.assembly.go.kr/law/lawsLawtInqyD...</td>\n",
       "      <td>행정일반</td>\n",
       "      <td>[-0.47814035415649414, -0.5496678352355957, 0....</td>\n",
       "      <td>[0.8780376821508861]</td>\n",
       "    </tr>\n",
       "    <tr>\n",
       "      <th>6259</th>\n",
       "      <td>정보통신기반 보호법</td>\n",
       "      <td>https://likms.assembly.go.kr/law/lawsLawtInqyD...</td>\n",
       "      <td>정보통신</td>\n",
       "      <td>[-0.5040146708488464, -0.7708751559257507, 0.7...</td>\n",
       "      <td>[0.8688812934551673]</td>\n",
       "    </tr>\n",
       "    <tr>\n",
       "      <th>6252</th>\n",
       "      <td>통신비밀보호법</td>\n",
       "      <td>https://likms.assembly.go.kr/law/lawsLawtInqyD...</td>\n",
       "      <td>정보통신</td>\n",
       "      <td>[-0.3509213924407959, -0.5678770542144775, 0.5...</td>\n",
       "      <td>[0.8629617845889249]</td>\n",
       "    </tr>\n",
       "  </tbody>\n",
       "</table>\n",
       "</div>"
      ],
      "text/plain": [
       "             title                                                url  \\\n",
       "275       개인정보 보호법  https://likms.assembly.go.kr/law/lawsLawtInqyD...   \n",
       "1150         인신보호법  https://likms.assembly.go.kr/law/lawsLawtInqyD...   \n",
       "237   개인정보 보호법 시행령  https://likms.assembly.go.kr/law/lawsLawtInqyD...   \n",
       "6259    정보통신기반 보호법  https://likms.assembly.go.kr/law/lawsLawtInqyD...   \n",
       "6252       통신비밀보호법  https://likms.assembly.go.kr/law/lawsLawtInqyD...   \n",
       "\n",
       "     category                                             vector  \\\n",
       "275      행정일반  [-0.26643165946006775, -0.747812032699585, 0.3...   \n",
       "1150      형사법  [-0.3443678021430969, -0.5468336939811707, 0.3...   \n",
       "237      행정일반  [-0.47814035415649414, -0.5496678352355957, 0....   \n",
       "6259     정보통신  [-0.5040146708488464, -0.7708751559257507, 0.7...   \n",
       "6252     정보통신  [-0.3509213924407959, -0.5678770542144775, 0.5...   \n",
       "\n",
       "         Cosine Similarity  \n",
       "275   [0.9776631777974797]  \n",
       "1150  [0.8836260917562025]  \n",
       "237   [0.8780376821508861]  \n",
       "6259  [0.8688812934551673]  \n",
       "6252  [0.8629617845889249]  "
      ]
     },
     "execution_count": 22,
     "metadata": {},
     "output_type": "execute_result"
    }
   ],
   "source": [
    "result"
   ]
  },
  {
   "cell_type": "code",
   "execution_count": null,
   "id": "13d2fcb2",
   "metadata": {},
   "outputs": [],
   "source": []
  },
  {
   "cell_type": "markdown",
   "id": "0df22c63",
   "metadata": {},
   "source": [
    "# matching(TFIDF+SBERT)\n",
    " \n",
    "- 유사도 0.5이상인 법률이 없을 경우 SBERT를 통한 방법 사용\n"
   ]
  },
  {
   "cell_type": "code",
   "execution_count": 23,
   "id": "d572c74e",
   "metadata": {},
   "outputs": [],
   "source": [
    "law = '개인정보보호법'\n",
    "# tfidf_matrix = vectorizer.fit_transform(texts)\n",
    "# vectors = df['vector']\n",
    "# df = pd.read_csv('../data/law_url_vec.csv')"
   ]
  },
  {
   "cell_type": "code",
   "execution_count": 24,
   "id": "df539aed",
   "metadata": {},
   "outputs": [],
   "source": [
    "def matching(law, tfidf_matrix, vectors, df):\n",
    "    idices = extract_tfidf(law, tfidf_matrix)\n",
    "    if not idices:\n",
    "        result = extract_sbert(law, vectors, df)\n",
    "    else:\n",
    "        result = df.iloc[idices]\n",
    "    return result"
   ]
  },
  {
   "cell_type": "code",
   "execution_count": 25,
   "id": "b63c0a55",
   "metadata": {},
   "outputs": [
    {
     "name": "stdout",
     "output_type": "stream",
     "text": [
      "추출된 법률: 개인정보보호법\n",
      "---------------------------------------------------------------------------\n",
      "유사도 0.5 이상의 기존 법률:\n"
     ]
    }
   ],
   "source": [
    "result = matching(law, tfidf_matrix, vectors, df)"
   ]
  },
  {
   "cell_type": "code",
   "execution_count": 26,
   "id": "ad27dc7f",
   "metadata": {},
   "outputs": [
    {
     "data": {
      "text/html": [
       "<div>\n",
       "<style scoped>\n",
       "    .dataframe tbody tr th:only-of-type {\n",
       "        vertical-align: middle;\n",
       "    }\n",
       "\n",
       "    .dataframe tbody tr th {\n",
       "        vertical-align: top;\n",
       "    }\n",
       "\n",
       "    .dataframe thead th {\n",
       "        text-align: right;\n",
       "    }\n",
       "</style>\n",
       "<table border=\"1\" class=\"dataframe\">\n",
       "  <thead>\n",
       "    <tr style=\"text-align: right;\">\n",
       "      <th></th>\n",
       "      <th>title</th>\n",
       "      <th>url</th>\n",
       "      <th>category</th>\n",
       "      <th>vector</th>\n",
       "      <th>Cosine Similarity</th>\n",
       "    </tr>\n",
       "  </thead>\n",
       "  <tbody>\n",
       "    <tr>\n",
       "      <th>275</th>\n",
       "      <td>개인정보 보호법</td>\n",
       "      <td>https://likms.assembly.go.kr/law/lawsLawtInqyD...</td>\n",
       "      <td>행정일반</td>\n",
       "      <td>[-0.26643165946006775, -0.747812032699585, 0.3...</td>\n",
       "      <td>[0.9776631777974797]</td>\n",
       "    </tr>\n",
       "    <tr>\n",
       "      <th>1150</th>\n",
       "      <td>인신보호법</td>\n",
       "      <td>https://likms.assembly.go.kr/law/lawsLawtInqyD...</td>\n",
       "      <td>형사법</td>\n",
       "      <td>[-0.3443678021430969, -0.5468336939811707, 0.3...</td>\n",
       "      <td>[0.8836260917562025]</td>\n",
       "    </tr>\n",
       "    <tr>\n",
       "      <th>237</th>\n",
       "      <td>개인정보 보호법 시행령</td>\n",
       "      <td>https://likms.assembly.go.kr/law/lawsLawtInqyD...</td>\n",
       "      <td>행정일반</td>\n",
       "      <td>[-0.47814035415649414, -0.5496678352355957, 0....</td>\n",
       "      <td>[0.8780376821508861]</td>\n",
       "    </tr>\n",
       "    <tr>\n",
       "      <th>6259</th>\n",
       "      <td>정보통신기반 보호법</td>\n",
       "      <td>https://likms.assembly.go.kr/law/lawsLawtInqyD...</td>\n",
       "      <td>정보통신</td>\n",
       "      <td>[-0.5040146708488464, -0.7708751559257507, 0.7...</td>\n",
       "      <td>[0.8688812934551673]</td>\n",
       "    </tr>\n",
       "    <tr>\n",
       "      <th>6252</th>\n",
       "      <td>통신비밀보호법</td>\n",
       "      <td>https://likms.assembly.go.kr/law/lawsLawtInqyD...</td>\n",
       "      <td>정보통신</td>\n",
       "      <td>[-0.3509213924407959, -0.5678770542144775, 0.5...</td>\n",
       "      <td>[0.8629617845889249]</td>\n",
       "    </tr>\n",
       "  </tbody>\n",
       "</table>\n",
       "</div>"
      ],
      "text/plain": [
       "             title                                                url  \\\n",
       "275       개인정보 보호법  https://likms.assembly.go.kr/law/lawsLawtInqyD...   \n",
       "1150         인신보호법  https://likms.assembly.go.kr/law/lawsLawtInqyD...   \n",
       "237   개인정보 보호법 시행령  https://likms.assembly.go.kr/law/lawsLawtInqyD...   \n",
       "6259    정보통신기반 보호법  https://likms.assembly.go.kr/law/lawsLawtInqyD...   \n",
       "6252       통신비밀보호법  https://likms.assembly.go.kr/law/lawsLawtInqyD...   \n",
       "\n",
       "     category                                             vector  \\\n",
       "275      행정일반  [-0.26643165946006775, -0.747812032699585, 0.3...   \n",
       "1150      형사법  [-0.3443678021430969, -0.5468336939811707, 0.3...   \n",
       "237      행정일반  [-0.47814035415649414, -0.5496678352355957, 0....   \n",
       "6259     정보통신  [-0.5040146708488464, -0.7708751559257507, 0.7...   \n",
       "6252     정보통신  [-0.3509213924407959, -0.5678770542144775, 0.5...   \n",
       "\n",
       "         Cosine Similarity  \n",
       "275   [0.9776631777974797]  \n",
       "1150  [0.8836260917562025]  \n",
       "237   [0.8780376821508861]  \n",
       "6259  [0.8688812934551673]  \n",
       "6252  [0.8629617845889249]  "
      ]
     },
     "execution_count": 26,
     "metadata": {},
     "output_type": "execute_result"
    }
   ],
   "source": [
    "result"
   ]
  },
  {
   "cell_type": "code",
   "execution_count": null,
   "id": "2373c174",
   "metadata": {},
   "outputs": [],
   "source": []
  },
  {
   "cell_type": "code",
   "execution_count": 27,
   "id": "d83511cc",
   "metadata": {},
   "outputs": [],
   "source": [
    "law = '달빛철도특별법'\n",
    "# tfidf_matrix = vectorizer.fit_transform(texts)\n",
    "# vectors = df['vector']\n",
    "# df = pd.read_csv('../data/law_url_vec.csv')"
   ]
  },
  {
   "cell_type": "code",
   "execution_count": 28,
   "id": "029d9573",
   "metadata": {},
   "outputs": [
    {
     "name": "stdout",
     "output_type": "stream",
     "text": [
      "추출된 법률: 달빛철도특별법\n",
      "---------------------------------------------------------------------------\n",
      "유사도 0.5 이상의 기존 법률:\n",
      "철도안전법 (유사도: 0.6552)\n",
      "철도사업법 (유사도: 0.6451)\n",
      "철도안전법 시행규칙 (유사도: 0.6175)\n",
      "철도의 건설 및 철도시설 유지관리에 관한 법률 (유사도: 0.6131)\n",
      "철도안전법 시행령 (유사도: 0.6131)\n"
     ]
    }
   ],
   "source": [
    "result = matching(law, tfidf_matrix, vectors, df)"
   ]
  },
  {
   "cell_type": "code",
   "execution_count": 29,
   "id": "7c404216",
   "metadata": {},
   "outputs": [
    {
     "data": {
      "text/html": [
       "<div>\n",
       "<style scoped>\n",
       "    .dataframe tbody tr th:only-of-type {\n",
       "        vertical-align: middle;\n",
       "    }\n",
       "\n",
       "    .dataframe tbody tr th {\n",
       "        vertical-align: top;\n",
       "    }\n",
       "\n",
       "    .dataframe thead th {\n",
       "        text-align: right;\n",
       "    }\n",
       "</style>\n",
       "<table border=\"1\" class=\"dataframe\">\n",
       "  <thead>\n",
       "    <tr style=\"text-align: right;\">\n",
       "      <th></th>\n",
       "      <th>title</th>\n",
       "      <th>url</th>\n",
       "      <th>category</th>\n",
       "      <th>vector</th>\n",
       "    </tr>\n",
       "  </thead>\n",
       "  <tbody>\n",
       "    <tr>\n",
       "      <th>5886</th>\n",
       "      <td>철도안전법</td>\n",
       "      <td>https://likms.assembly.go.kr/law/lawsLawtInqyD...</td>\n",
       "      <td>육운·항공·관광</td>\n",
       "      <td>[-0.17733250558376312, -0.5263206362724304, 0....</td>\n",
       "    </tr>\n",
       "    <tr>\n",
       "      <th>5870</th>\n",
       "      <td>철도사업법</td>\n",
       "      <td>https://likms.assembly.go.kr/law/lawsLawtInqyD...</td>\n",
       "      <td>육운·항공·관광</td>\n",
       "      <td>[0.011703510768711567, -0.41449448466300964, 0...</td>\n",
       "    </tr>\n",
       "    <tr>\n",
       "      <th>5848</th>\n",
       "      <td>철도안전법 시행규칙</td>\n",
       "      <td>https://likms.assembly.go.kr/law/lawsLawtInqyD...</td>\n",
       "      <td>육운·항공·관광</td>\n",
       "      <td>[-0.22186923027038574, -0.5471478700637817, 0....</td>\n",
       "    </tr>\n",
       "    <tr>\n",
       "      <th>5842</th>\n",
       "      <td>철도의 건설 및 철도시설 유지관리에 관한 법률</td>\n",
       "      <td>https://likms.assembly.go.kr/law/lawsLawtInqyD...</td>\n",
       "      <td>육운·항공·관광</td>\n",
       "      <td>[-0.39204877614974976, -0.9028782248497009, 0....</td>\n",
       "    </tr>\n",
       "    <tr>\n",
       "      <th>5859</th>\n",
       "      <td>철도안전법 시행령</td>\n",
       "      <td>https://likms.assembly.go.kr/law/lawsLawtInqyD...</td>\n",
       "      <td>육운·항공·관광</td>\n",
       "      <td>[-0.6495405435562134, -0.35013145208358765, 1....</td>\n",
       "    </tr>\n",
       "  </tbody>\n",
       "</table>\n",
       "</div>"
      ],
      "text/plain": [
       "                          title  \\\n",
       "5886                      철도안전법   \n",
       "5870                      철도사업법   \n",
       "5848                 철도안전법 시행규칙   \n",
       "5842  철도의 건설 및 철도시설 유지관리에 관한 법률   \n",
       "5859                  철도안전법 시행령   \n",
       "\n",
       "                                                    url  category  \\\n",
       "5886  https://likms.assembly.go.kr/law/lawsLawtInqyD...  육운·항공·관광   \n",
       "5870  https://likms.assembly.go.kr/law/lawsLawtInqyD...  육운·항공·관광   \n",
       "5848  https://likms.assembly.go.kr/law/lawsLawtInqyD...  육운·항공·관광   \n",
       "5842  https://likms.assembly.go.kr/law/lawsLawtInqyD...  육운·항공·관광   \n",
       "5859  https://likms.assembly.go.kr/law/lawsLawtInqyD...  육운·항공·관광   \n",
       "\n",
       "                                                 vector  \n",
       "5886  [-0.17733250558376312, -0.5263206362724304, 0....  \n",
       "5870  [0.011703510768711567, -0.41449448466300964, 0...  \n",
       "5848  [-0.22186923027038574, -0.5471478700637817, 0....  \n",
       "5842  [-0.39204877614974976, -0.9028782248497009, 0....  \n",
       "5859  [-0.6495405435562134, -0.35013145208358765, 1....  "
      ]
     },
     "execution_count": 29,
     "metadata": {},
     "output_type": "execute_result"
    }
   ],
   "source": [
    "result"
   ]
  },
  {
   "cell_type": "code",
   "execution_count": null,
   "id": "457cdef8",
   "metadata": {},
   "outputs": [],
   "source": []
  }
 ],
 "metadata": {
  "kernelspec": {
   "display_name": "Python 3 (ipykernel)",
   "language": "python",
   "name": "python3"
  },
  "language_info": {
   "codemirror_mode": {
    "name": "ipython",
    "version": 3
   },
   "file_extension": ".py",
   "mimetype": "text/x-python",
   "name": "python",
   "nbconvert_exporter": "python",
   "pygments_lexer": "ipython3",
   "version": "3.9.7"
  }
 },
 "nbformat": 4,
 "nbformat_minor": 5
}
